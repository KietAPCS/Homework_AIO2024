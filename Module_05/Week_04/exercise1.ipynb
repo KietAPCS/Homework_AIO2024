{
 "cells": [
  {
   "cell_type": "code",
   "execution_count": 1,
   "metadata": {},
   "outputs": [],
   "source": [
    "import numpy as np \n",
    "import matplotlib.pyplot as plt"
   ]
  },
  {
   "cell_type": "code",
   "execution_count": 2,
   "metadata": {},
   "outputs": [],
   "source": [
    "def f(W):\n",
    "    return 0.1 * W[0]**2 + 2 * W[1]**2"
   ]
  },
  {
   "cell_type": "code",
   "execution_count": 3,
   "metadata": {},
   "outputs": [],
   "source": [
    "def df_w(W):\n",
    "    dW = np.array([0.2 * W[0], 4 * W[1]])\n",
    "    return dW"
   ]
  },
  {
   "cell_type": "code",
   "execution_count": 4,
   "metadata": {},
   "outputs": [],
   "source": [
    "def SGD(W, dW, lr):\n",
    "    return W - lr * dW "
   ]
  },
  {
   "cell_type": "code",
   "execution_count": 5,
   "metadata": {},
   "outputs": [],
   "source": [
    "def train_pl(optimizer, lr, epochs):\n",
    "    W = np.array([-5, -2], dtype=np.float32)\n",
    "    results = [W]\n",
    "    \n",
    "    for i in range(epochs):\n",
    "        cur = results[-1]\n",
    "        dW = df_w(cur)\n",
    "        W = optimizer(cur, dW, lr)\n",
    "        results.append(W)\n",
    "        \n",
    "    return np.array(results)"
   ]
  },
  {
   "cell_type": "code",
   "execution_count": 6,
   "metadata": {},
   "outputs": [
    {
     "name": "stdout",
     "output_type": "stream",
     "text": [
      "[[-5.00000000e+00 -2.00000000e+00]\n",
      " [-4.60000000e+00  1.20000000e+00]\n",
      " [-4.23200000e+00 -7.20000000e-01]\n",
      " [-3.89344000e+00  4.32000000e-01]\n",
      " [-3.58196480e+00 -2.59200000e-01]\n",
      " [-3.29540762e+00  1.55520000e-01]\n",
      " [-3.03177501e+00 -9.33120000e-02]\n",
      " [-2.78923301e+00  5.59872000e-02]\n",
      " [-2.56609437e+00 -3.35923200e-02]\n",
      " [-2.36080682e+00  2.01553920e-02]\n",
      " [-2.17194227e+00 -1.20932352e-02]\n",
      " [-1.99818689e+00  7.25594112e-03]\n",
      " [-1.83833194e+00 -4.35356467e-03]\n",
      " [-1.69126538e+00  2.61213880e-03]\n",
      " [-1.55596415e+00 -1.56728328e-03]\n",
      " [-1.43148702e+00  9.40369969e-04]\n",
      " [-1.31696806e+00 -5.64221981e-04]\n",
      " [-1.21161061e+00  3.38533189e-04]\n",
      " [-1.11468176e+00 -2.03119913e-04]\n",
      " [-1.02550722e+00  1.21871948e-04]\n",
      " [-9.43466646e-01 -7.31231688e-05]\n",
      " [-8.67989314e-01  4.38739013e-05]\n",
      " [-7.98550169e-01 -2.63243408e-05]\n",
      " [-7.34666155e-01  1.57946045e-05]\n",
      " [-6.75892863e-01 -9.47676268e-06]\n",
      " [-6.21821434e-01  5.68605761e-06]\n",
      " [-5.72075719e-01 -3.41163456e-06]\n",
      " [-5.26309662e-01  2.04698074e-06]\n",
      " [-4.84204889e-01 -1.22818844e-06]\n",
      " [-4.45468498e-01  7.36913066e-07]\n",
      " [-4.09831018e-01 -4.42147839e-07]]\n"
     ]
    }
   ],
   "source": [
    "results = train_pl(SGD, 0.4, 30)\n",
    "print(results) "
   ]
  },
  {
   "cell_type": "code",
   "execution_count": 7,
   "metadata": {},
   "outputs": [],
   "source": [
    "fx = [f(W) for W in results]"
   ]
  },
  {
   "cell_type": "code",
   "execution_count": 8,
   "metadata": {},
   "outputs": [
    {
     "data": {
      "text/plain": [
       "[<matplotlib.lines.Line2D at 0x29c504ff740>]"
      ]
     },
     "execution_count": 8,
     "metadata": {},
     "output_type": "execute_result"
    },
    {
     "data": {
      "image/png": "[encoded data removed]",
      "text/plain": [
       "<Figure size 640x480 with 1 Axes>"
      ]
     },
     "metadata": {},
     "output_type": "display_data"
    }
   ],
   "source": [
    "plt.plot(fx)"
   ]
  },
  {
   "cell_type": "code",
   "execution_count": 10,
   "metadata": {},
   "outputs": [
    {
     "name": "stdout",
     "output_type": "stream",
     "text": [
      "[[-5.    -2.   ]\n",
      " [-4.6    1.2  ]\n",
      " [-4.232 -0.72 ]]\n"
     ]
    }
   ],
   "source": [
    "result = train_pl(SGD, 0.4, 2)\n",
    "print(result)"
   ]
  }
 ],
 "metadata": {
  "kernelspec": {
   "display_name": "base",
   "language": "python",
   "name": "python3"
  },
  "language_info": {
   "codemirror_mode": {
    "name": "ipython",
    "version": 3
   },
   "file_extension": ".py",
   "mimetype": "text/x-python",
   "name": "python",
   "nbconvert_exporter": "python",
   "pygments_lexer": "ipython3",
   "version": "3.12.7"
  }
 },
 "nbformat": 4,
 "nbformat_minor": 2
}
