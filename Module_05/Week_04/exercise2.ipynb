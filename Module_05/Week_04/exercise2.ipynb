{
 "cells": [
  {
   "cell_type": "code",
   "execution_count": 15,
   "metadata": {},
   "outputs": [],
   "source": [
    "import numpy as np\n",
    "import matplotlib.pyplot as plt "
   ]
  },
  {
   "cell_type": "code",
   "execution_count": 2,
   "metadata": {},
   "outputs": [],
   "source": [
    "def f(W):\n",
    "    return 0.1 * W[0]**2 + 2 * W[1]**2"
   ]
  },
  {
   "cell_type": "code",
   "execution_count": 3,
   "metadata": {},
   "outputs": [],
   "source": [
    "def df_w(W):\n",
    "    dW = np.array([0.2 * W[0], 4 * W[1]])\n",
    "    return dW"
   ]
  },
  {
   "cell_type": "code",
   "execution_count": 4,
   "metadata": {},
   "outputs": [],
   "source": [
    "def SGD_Momentum(W, V, dW, lr, beta):\n",
    "    V = beta * V + (1 - beta) * dW\n",
    "    W = W - lr * V\n",
    "    return W, V "
   ]
  },
  {
   "cell_type": "code",
   "execution_count": 8,
   "metadata": {},
   "outputs": [],
   "source": [
    "def train_pl(optimizer, lr, beta, epochs):\n",
    "    W = np.array([-5, -2], dtype=np.float32)\n",
    "    V = np.zeros(W.shape, dtype=np.float32)\n",
    "    results = [W]\n",
    "    for i in range(epochs):\n",
    "        dW = df_w(W)\n",
    "        W, V = optimizer(W, V, dW, lr, beta)\n",
    "        results.append(W)\n",
    "        \n",
    "    return np.array(results)"
   ]
  },
  {
   "cell_type": "code",
   "execution_count": 23,
   "metadata": {},
   "outputs": [
    {
     "name": "stdout",
     "output_type": "stream",
     "text": [
      "[[-5.00000000e+00 -2.00000000e+00]\n",
      " [-4.70000000e+00  4.00000000e-01]\n",
      " [-4.26800000e+00  1.12000000e+00]\n",
      " [-3.79592000e+00  1.36000000e-01]\n",
      " [-3.33212480e+00 -5.19200000e-01]\n",
      " [-2.90029971e+00 -2.23760000e-01]\n",
      " [-2.51036919e+00  1.92472000e-01]\n",
      " [-2.16478177e+00  1.69621600e-01]\n",
      " [-1.86210116e+00 -4.53495200e-02]\n",
      " [-1.59903478e+00 -9.84156560e-02]\n",
      " [-1.37155951e+00 -6.84993680e-03]\n",
      " [-1.17552830e+00  4.71528470e-02]\n",
      " [-1.00698100e+00  1.75708225e-02]\n",
      " [-8.62288486e-01 -1.83051767e-02]\n",
      " [-7.38204921e-01 -1.42769643e-02]\n",
      " [-6.31870844e-01  4.86949909e-03]\n",
      " [-5.40791554e-01  8.59933186e-03]\n",
      " [-4.62804416e-01  1.45050014e-04]\n",
      " [-3.96042582e-01 -4.25615093e-03]\n",
      " [-3.38899111e-01 -1.34937028e-03]\n",
      " [-2.89993428e-01  1.72326438e-03]\n",
      " [-2.48140981e-01  1.19166446e-03]\n",
      " [-2.12326299e-01 -5.04132852e-04]\n",
      " [-1.81679380e-01 -7.47072083e-04]\n",
      " [-1.55455157e-01  2.79448010e-05]\n",
      " [-1.33015737e-01  3.81919482e-04]\n",
      " [-1.13815082e-01  1.00603444e-04]\n",
      " [-9.73858500e-02 -1.60778708e-04]\n",
      " [-8.33280829e-02 -9.85353344e-05]\n",
      " [-7.12995144e-02  5.08287536e-05]\n",
      " [-6.10072592e-02  6.45162933e-05]]\n"
     ]
    }
   ],
   "source": [
    "results = train_pl(SGD_Momentum, 0.6, 0.5, 30)\n",
    "print(results) "
   ]
  },
  {
   "cell_type": "code",
   "execution_count": 24,
   "metadata": {},
   "outputs": [],
   "source": [
    "fx = [f(W) for W in results]"
   ]
  },
  {
   "cell_type": "code",
   "execution_count": 25,
   "metadata": {},
   "outputs": [
    {
     "data": {
      "text/plain": [
       "[<matplotlib.lines.Line2D at 0x1c91af5e660>]"
      ]
     },
     "execution_count": 25,
     "metadata": {},
     "output_type": "execute_result"
    },
    {
     "data": {
      "image/png": "[encoded data removed]",
      "text/plain": [
       "<Figure size 640x480 with 1 Axes>"
      ]
     },
     "metadata": {},
     "output_type": "display_data"
    }
   ],
   "source": [
    "plt.plot(fx)"
   ]
  },
  {
   "cell_type": "code",
   "execution_count": 28,
   "metadata": {},
   "outputs": [],
   "source": [
    "result = train_pl(SGD_Momentum, 0.6, 0.5, 2)"
   ]
  },
  {
   "cell_type": "code",
   "execution_count": 29,
   "metadata": {},
   "outputs": [
    {
     "name": "stdout",
     "output_type": "stream",
     "text": [
      "[[-5.    -2.   ]\n",
      " [-4.7    0.4  ]\n",
      " [-4.268  1.12 ]]\n"
     ]
    }
   ],
   "source": [
    "print(result)"
   ]
  }
 ],
 "metadata": {
  "kernelspec": {
   "display_name": "base",
   "language": "python",
   "name": "python3"
  },
  "language_info": {
   "codemirror_mode": {
    "name": "ipython",
    "version": 3
   },
   "file_extension": ".py",
   "mimetype": "text/x-python",
   "name": "python",
   "nbconvert_exporter": "python",
   "pygments_lexer": "ipython3",
   "version": "3.12.7"
  }
 },
 "nbformat": 4,
 "nbformat_minor": 2
}
