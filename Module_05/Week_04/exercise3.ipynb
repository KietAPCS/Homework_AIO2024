{
 "cells": [
  {
   "cell_type": "code",
   "execution_count": 1,
   "metadata": {},
   "outputs": [],
   "source": [
    "import numpy as np\n",
    "import matplotlib.pyplot as plt"
   ]
  },
  {
   "cell_type": "code",
   "execution_count": 2,
   "metadata": {},
   "outputs": [],
   "source": [
    "def f(W):\n",
    "    return 0.1 * W[0]**2 + 2 * W[1]**2"
   ]
  },
  {
   "cell_type": "code",
   "execution_count": 3,
   "metadata": {},
   "outputs": [],
   "source": [
    "def df_w(W):\n",
    "    dW = np.array([0.2 * W[0], 4 * W[1]])\n",
    "    return dW"
   ]
  },
  {
   "cell_type": "code",
   "execution_count": 22,
   "metadata": {},
   "outputs": [],
   "source": [
    "def RMSProp(W, dW, S, y, lr, eps):\n",
    "    S = y * S + (1 - y) * dW**2 \n",
    "    W = W - lr * dW / (np.sqrt(S) + eps)\n",
    "    return W, S "
   ]
  },
  {
   "cell_type": "code",
   "execution_count": 30,
   "metadata": {},
   "outputs": [],
   "source": [
    "def train_pl(optimizer, y, lr, eps, epochs):\n",
    "    W = np.array([-5, -2])\n",
    "    S = np.array([0, 0])\n",
    "    results = [W]\n",
    "    \n",
    "    for i in range(epochs):\n",
    "        dW = df_w(W)\n",
    "        W, S = optimizer(W, dW, S, y, lr, eps)\n",
    "        results.append(W)\n",
    "    \n",
    "    return np.array(results)"
   ]
  },
  {
   "cell_type": "code",
   "execution_count": 36,
   "metadata": {},
   "outputs": [
    {
     "name": "stdout",
     "output_type": "stream",
     "text": [
      "[[-5.00000000e+00 -2.00000000e+00]\n",
      " [-4.05131970e+00 -1.05131708e+00]\n",
      " [-3.43519553e+00 -5.91523763e-01]\n",
      " [-2.95893489e+00 -3.29439699e-01]\n",
      " [-2.56546089e+00 -1.77565043e-01]\n",
      " [-2.22920358e+00 -9.16327166e-02]\n",
      " [-1.93626564e+00 -4.49450849e-02]\n",
      " [-1.67817504e+00 -2.08142869e-02]\n",
      " [-1.44934809e+00 -9.03561637e-03]\n",
      " [-1.24588029e+00 -3.64592066e-03]\n",
      " [-1.06490135e+00 -1.35351674e-03]\n",
      " [-9.04200650e-01 -4.56447225e-04]\n",
      " [-7.61994932e-01 -1.37563947e-04]\n",
      " [-6.36776983e-01 -3.62604278e-05]\n",
      " [-5.27213771e-01 -8.11346375e-06]\n",
      " [-4.32077091e-01 -1.47475425e-06]\n",
      " [-3.50197152e-01 -2.02787524e-07]\n",
      " [-2.80433359e-01 -1.84235524e-08]\n",
      " [-2.21658617e-01 -7.67771777e-10]\n",
      " [-1.72754375e-01  7.80432778e-12]\n",
      " [-1.32614084e-01 -5.05777072e-13]\n",
      " [-1.00152823e-01  6.19098174e-14]\n",
      " [-7.43209130e-02 -1.13368674e-14]\n",
      " [-5.41193712e-02  2.80153177e-15]\n",
      " [-3.86152607e-02 -8.81296300e-16]\n",
      " [-2.69552510e-02  3.39903035e-16]\n",
      " [-1.83761024e-02 -1.56573095e-16]\n",
      " [-1.22112361e-02  8.44946934e-17]\n",
      " [-7.89302368e-03 -5.26345869e-17]\n",
      " [-4.95087715e-03  3.74085662e-17]\n",
      " [-3.00560338e-03 -3.00487798e-17]]\n"
     ]
    }
   ],
   "source": [
    "results = train_pl(RMSProp, 0.9, 0.3, 1e-6, 30)\n",
    "print(results) "
   ]
  },
  {
   "cell_type": "code",
   "execution_count": 32,
   "metadata": {},
   "outputs": [],
   "source": [
    "fx = [f(W) for W in results]"
   ]
  },
  {
   "cell_type": "code",
   "execution_count": 33,
   "metadata": {},
   "outputs": [
    {
     "data": {
      "text/plain": [
       "[<matplotlib.lines.Line2D at 0x2623dc73f80>]"
      ]
     },
     "execution_count": 33,
     "metadata": {},
     "output_type": "execute_result"
    },
    {
     "data": {
      "image/png": "[encoded data removed]",
      "text/plain": [
       "<Figure size 640x480 with 1 Axes>"
      ]
     },
     "metadata": {},
     "output_type": "display_data"
    }
   ],
   "source": [
    "plt.plot(fx)"
   ]
  },
  {
   "cell_type": "code",
   "execution_count": 34,
   "metadata": {},
   "outputs": [
    {
     "name": "stdout",
     "output_type": "stream",
     "text": [
      "[[-5.         -2.        ]\n",
      " [-4.0513197  -1.05131708]\n",
      " [-3.43519553 -0.59152376]]\n"
     ]
    }
   ],
   "source": [
    "results = train_pl(RMSProp, 0.9, 0.3, 1e-6, 2)\n",
    "print(results)"
   ]
  }
 ],
 "metadata": {
  "kernelspec": {
   "display_name": "base",
   "language": "python",
   "name": "python3"
  },
  "language_info": {
   "codemirror_mode": {
    "name": "ipython",
    "version": 3
   },
   "file_extension": ".py",
   "mimetype": "text/x-python",
   "name": "python",
   "nbconvert_exporter": "python",
   "pygments_lexer": "ipython3",
   "version": "3.12.7"
  }
 },
 "nbformat": 4,
 "nbformat_minor": 2
}
