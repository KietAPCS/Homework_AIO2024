{
 "cells": [
  {
   "cell_type": "code",
   "execution_count": 36,
   "metadata": {},
   "outputs": [],
   "source": [
    "import numpy as np\n",
    "import matplotlib.pyplot as plt"
   ]
  },
  {
   "cell_type": "code",
   "execution_count": 37,
   "metadata": {},
   "outputs": [],
   "source": [
    "def f(W):\n",
    "    return 0.1 * W[0]**2 + 2 * W[1]**2\n",
    "\n",
    "def df_w(W):\n",
    "    dW = np.array([0.2 * W[0], 4 * W[1]])\n",
    "    return dW"
   ]
  },
  {
   "cell_type": "code",
   "execution_count": 38,
   "metadata": {},
   "outputs": [],
   "source": [
    "def Adam(W, V, S, dW, beta1, beta2, alpha, eps):\n",
    "    V = beta1 * V + (1 - beta1) * df_w(W)\n",
    "    S = beta2 * S + (1 - beta2) * df_w(W)**2\n",
    "    \n",
    "    V_corr = V / (1 - beta1)\n",
    "    S_corr = S / (1 - beta2)\n",
    "    \n",
    "    W = W - alpha * V_corr / (np.sqrt(S_corr) + eps)\n",
    "    \n",
    "    return W, V, S "
   ]
  },
  {
   "cell_type": "code",
   "execution_count": 39,
   "metadata": {},
   "outputs": [],
   "source": [
    "def train_pl(optimizer, beta1, beta2, alpha, eps, epochs):\n",
    "    W = np.array([-5, -2], dtype=np.float32)\n",
    "    V = np.array([0, 0], dtype=np.float32)\n",
    "    S = np.array([0, 0], dtype=np.float32)\n",
    "    results = [W]\n",
    "    \n",
    "    for i in range(epochs):\n",
    "        dW = df_w(W)\n",
    "        W, V, S = Adam(W, V, S, dW, beta1, beta2, alpha, eps)\n",
    "        results.append(W)\n",
    "        \n",
    "    return np.array(results)"
   ]
  },
  {
   "cell_type": "code",
   "execution_count": 48,
   "metadata": {},
   "outputs": [
    {
     "name": "stdout",
     "output_type": "stream",
     "text": [
      "[[-5.00000000e+00 -2.00000000e+00]\n",
      " [-4.80000020e+00 -1.80000002e+00]\n",
      " [-4.53157446e+00 -1.53234021e+00]\n",
      " [-4.21981450e+00 -1.22391458e+00]\n",
      " [-3.87886593e+00 -8.92087403e-01]\n",
      " [-3.51848220e+00 -5.51671363e-01]\n",
      " [-3.14612788e+00 -2.17346083e-01]\n",
      " [-2.76791010e+00  9.55694156e-02]\n",
      " [-2.38906471e+00  3.71750558e-01]\n",
      " [-2.01423269e+00  5.97837796e-01]\n",
      " [-1.64762053e+00  7.64897078e-01]\n",
      " [-1.29308728e+00  8.69881404e-01]\n",
      " [-9.54179954e-01  9.15256022e-01]\n",
      " [-6.34130342e-01  9.07333729e-01]\n",
      " [-3.35823360e-01  8.54437127e-01]\n",
      " [-6.17467503e-02  7.65568490e-01]\n",
      " [ 1.86067058e-01  6.49678876e-01]\n",
      " [ 4.06095560e-01  5.15353357e-01]\n",
      " [ 5.97366568e-01  3.70703126e-01]\n",
      " [ 7.59476076e-01  2.23313960e-01]\n",
      " [ 8.92579206e-01  8.01637302e-02]\n",
      " [ 9.97354380e-01 -5.25263270e-02]\n",
      " [ 1.07494495e+00 -1.69497782e-01]\n",
      " [ 1.12688525e+00 -2.66674297e-01]\n",
      " [ 1.15501888e+00 -3.41331807e-01]\n",
      " [ 1.16141666e+00 -3.92165825e-01]\n",
      " [ 1.14829976e+00 -4.19233761e-01]\n",
      " [ 1.11797166e+00 -4.23788272e-01]\n",
      " [ 1.07276057e+00 -4.08043042e-01]\n",
      " [ 1.01497252e+00 -3.74916866e-01]\n",
      " [ 9.46854270e-01 -3.27790171e-01]\n",
      " [ 8.70564573e-01 -2.70290924e-01]\n",
      " [ 7.88152387e-01 -2.06112673e-01]\n",
      " [ 7.01540465e-01 -1.38859761e-01]\n",
      " [ 6.12513114e-01 -7.19132457e-02]\n",
      " [ 5.22707148e-01 -8.31364734e-03]\n",
      " [ 4.33605333e-01  4.93392168e-02]\n",
      " [ 3.46531885e-01  9.89653476e-02]\n",
      " [ 2.62649782e-01  1.39057063e-01]\n",
      " [ 1.82959798e-01  1.68700267e-01]\n",
      " [ 1.08301255e-01  1.87562963e-01]\n",
      " [ 3.93545320e-02  1.95853381e-01]\n",
      " [-2.33546436e-02  1.94253498e-01]\n",
      " [-7.94491384e-02  1.83835556e-01]\n",
      " [-1.28692655e-01  1.65969358e-01]\n",
      " [-1.70980423e-01  1.42227015e-01]\n",
      " [-2.06328541e-01  1.14290187e-01]\n",
      " [-2.34862231e-01  8.38632847e-02]\n",
      " [-2.56803298e-01  5.25950132e-02]\n",
      " [-2.72457103e-01  2.20100042e-02]\n",
      " [-2.82199357e-01 -6.54797975e-03]\n",
      " [-2.86463009e-01 -3.19599726e-02]\n",
      " [-2.85725498e-01 -5.33618577e-02]\n",
      " [-2.80496550e-01 -7.01600535e-02]\n",
      " [-2.71306725e-01 -8.20330573e-02]\n",
      " [-2.58696800e-01 -8.89198737e-02]\n",
      " [-2.43208118e-01 -9.09970947e-02]\n",
      " [-2.25373916e-01 -8.86469351e-02]\n",
      " [-2.05711700e-01 -8.24188091e-02]\n",
      " [-1.84716633e-01 -7.29870570e-02]\n",
      " [-1.62855960e-01 -6.11072656e-02]\n",
      " [-1.40564413e-01 -4.75733413e-02]\n",
      " [-1.18240586e-01 -3.31771686e-02]\n",
      " [-9.62442195e-02 -1.86723559e-02]\n",
      " [-7.48943466e-02 -4.74325069e-03]\n",
      " [-5.44682544e-02  8.01990609e-03]\n",
      " [-3.52011878e-02  1.91391337e-02]\n",
      " [-1.72867378e-02  2.82599481e-02]\n",
      " [-8.77842663e-04  3.51557834e-02]\n",
      " [ 1.39116685e-02  3.97260154e-02]\n",
      " [ 2.70050639e-02  4.19882837e-02]\n",
      " [ 3.83603035e-02  4.20660260e-02]\n",
      " [ 4.79673143e-02  4.01722905e-02]\n",
      " [ 5.58450203e-02  3.65909634e-02]\n",
      " [ 6.20381965e-02  3.16565548e-02]\n",
      " [ 6.66142160e-02  2.57336287e-02]\n",
      " [ 6.96597520e-02  1.91968671e-02]\n",
      " [ 7.12774924e-02  1.24126231e-02]\n",
      " [ 7.15829199e-02  5.72266500e-03]\n",
      " [ 7.07012022e-02 -5.69350534e-04]\n",
      " [ 6.87642316e-02 -6.20831664e-03]\n",
      " [ 6.59078485e-02 -1.09948359e-02]\n",
      " [ 6.22692737e-02 -1.47890822e-02]\n",
      " [ 5.79847703e-02 -1.75115007e-02]\n",
      " [ 5.31875513e-02 -1.91406166e-02]\n",
      " [ 4.80059408e-02 -1.97083366e-02]\n",
      " [ 4.25617932e-02 -1.92932077e-02]\n",
      " [ 3.69691717e-02 -1.80121486e-02]\n",
      " [ 3.13332801e-02 -1.60111945e-02]\n",
      " [ 2.57496415e-02 -1.34557823e-02]\n",
      " [ 2.03035119e-02 -1.05210791e-02]\n",
      " [ 1.50695160e-02 -7.38280184e-03]\n",
      " [ 1.01114890e-02 -4.20890776e-03]\n",
      " [ 5.48250700e-03 -1.15246223e-03]\n",
      " [ 1.22508716e-03  1.65409810e-03]\n",
      " [-2.62846159e-03  4.10317256e-03]\n",
      " [-6.05555822e-03  6.11462497e-03]\n",
      " [-9.04275938e-03  7.63686290e-03]\n",
      " [-1.15850796e-02  8.64646715e-03]\n",
      " [-1.36852417e-02  9.14652983e-03]\n",
      " [-1.53528754e-02  9.16390478e-03]]\n"
     ]
    }
   ],
   "source": [
    "results = train_pl(Adam, 0.9, 0.999, 0.2, 1e-6, 100)\n",
    "print(results)"
   ]
  },
  {
   "cell_type": "code",
   "execution_count": 41,
   "metadata": {},
   "outputs": [],
   "source": [
    "fx = [f(W) for W in results]"
   ]
  },
  {
   "cell_type": "code",
   "execution_count": 42,
   "metadata": {},
   "outputs": [
    {
     "data": {
      "text/plain": [
       "[<matplotlib.lines.Line2D at 0x1d90aa74140>]"
      ]
     },
     "execution_count": 42,
     "metadata": {},
     "output_type": "execute_result"
    },
    {
     "data": {
      "image/png": "[encoded data removed]",
      "text/plain": [
       "<Figure size 640x480 with 1 Axes>"
      ]
     },
     "metadata": {},
     "output_type": "display_data"
    }
   ],
   "source": [
    "plt.plot(fx)"
   ]
  },
  {
   "cell_type": "code",
   "execution_count": 43,
   "metadata": {},
   "outputs": [
    {
     "name": "stdout",
     "output_type": "stream",
     "text": [
      "[[-5.         -2.        ]\n",
      " [-4.8000002  -1.80000002]\n",
      " [-4.53157446 -1.53234021]]\n"
     ]
    }
   ],
   "source": [
    "results = train_pl(Adam, 0.9, 0.999, 0.2, 1e-6, 2)\n",
    "print(results)"
   ]
  }
 ],
 "metadata": {
  "kernelspec": {
   "display_name": "base",
   "language": "python",
   "name": "python3"
  },
  "language_info": {
   "codemirror_mode": {
    "name": "ipython",
    "version": 3
   },
   "file_extension": ".py",
   "mimetype": "text/x-python",
   "name": "python",
   "nbconvert_exporter": "python",
   "pygments_lexer": "ipython3",
   "version": "3.12.7"
  }
 },
 "nbformat": 4,
 "nbformat_minor": 2
}
