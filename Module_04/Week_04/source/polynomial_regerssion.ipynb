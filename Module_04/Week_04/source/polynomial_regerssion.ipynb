{
 "cells": [
  {
   "cell_type": "markdown",
   "metadata": {},
   "source": [
    "Q5: b)"
   ]
  },
  {
   "cell_type": "markdown",
   "metadata": {},
   "source": [
    "Q6: b)"
   ]
  },
  {
   "cell_type": "code",
   "execution_count": 1,
   "metadata": {},
   "outputs": [],
   "source": [
    "def create_polynomial_features(X, degree=2):\n",
    "    X_new = X.copy()\n",
    "    \n",
    "    for i in range(2, degree+1):\n",
    "        X_new = np.c_[X_new, np.power(X, i)]\n",
    "        \n",
    "    return X_new    "
   ]
  },
  {
   "cell_type": "markdown",
   "metadata": {},
   "source": [
    "Q7: a)"
   ]
  },
  {
   "cell_type": "code",
   "execution_count": 2,
   "metadata": {},
   "outputs": [],
   "source": [
    "import numpy as np\n",
    "\n",
    "def create_polynomial_features(X, degree=2):\n",
    "    \"\"\"\n",
    "    Creates the polynomial features.\n",
    "\n",
    "    Args:\n",
    "        X: A numpy array for the data.\n",
    "        degree: An integer for the degree of the generated polynomial function.\n",
    "    \n",
    "    Returns:\n",
    "        A numpy array containing the polynomial features.\n",
    "    \"\"\"\n",
    "    X_mem = []\n",
    "    \n",
    "    for X_sub in X.T:\n",
    "        X_new = X_sub.reshape(-1, 1)  # Reshape to ensure proper concatenation\n",
    "        for d in range(2, degree + 1):\n",
    "            X_new = np.c_[X_new, np.power(X_sub, d)]\n",
    "        X_mem.extend(X_new.T)  # Store the generated features\n",
    "\n",
    "    return np.c_[X_mem].T  # Convert the list back to a numpy array and transpose it\n"
   ]
  },
  {
   "cell_type": "code",
   "execution_count": 3,
   "metadata": {},
   "outputs": [],
   "source": [
    "X = np. array ([[1 , 2],\n",
    "                [2, 3],\n",
    "                [3, 4]])"
   ]
  },
  {
   "cell_type": "code",
   "execution_count": 4,
   "metadata": {},
   "outputs": [],
   "source": [
    "X_poly = create_polynomial_features(X, degree=2)"
   ]
  },
  {
   "cell_type": "code",
   "execution_count": 5,
   "metadata": {},
   "outputs": [
    {
     "data": {
      "text/plain": [
       "array([[ 1,  1,  2,  4],\n",
       "       [ 2,  4,  3,  9],\n",
       "       [ 3,  9,  4, 16]])"
      ]
     },
     "execution_count": 5,
     "metadata": {},
     "output_type": "execute_result"
    }
   ],
   "source": [
    "X_poly"
   ]
  },
  {
   "cell_type": "markdown",
   "metadata": {},
   "source": [
    "Q8: a)"
   ]
  }
 ],
 "metadata": {
  "kernelspec": {
   "display_name": "base",
   "language": "python",
   "name": "python3"
  },
  "language_info": {
   "codemirror_mode": {
    "name": "ipython",
    "version": 3
   },
   "file_extension": ".py",
   "mimetype": "text/x-python",
   "name": "python",
   "nbconvert_exporter": "python",
   "pygments_lexer": "ipython3",
   "version": "3.11.7"
  }
 },
 "nbformat": 4,
 "nbformat_minor": 2
}
