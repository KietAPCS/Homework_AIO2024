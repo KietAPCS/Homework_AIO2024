{
 "cells": [
  {
   "cell_type": "markdown",
   "metadata": {},
   "source": [
    "# Exercise 1"
   ]
  },
  {
   "cell_type": "markdown",
   "metadata": {},
   "source": [
    "## Library"
   ]
  },
  {
   "cell_type": "code",
   "execution_count": 1,
   "metadata": {},
   "outputs": [],
   "source": [
    "import numpy as np \n",
    "import pandas as pd\n",
    "import matplotlib.pyplot as plt"
   ]
  },
  {
   "cell_type": "markdown",
   "metadata": {},
   "source": [
    "## Data preparation"
   ]
  },
  {
   "cell_type": "code",
   "execution_count": 2,
   "metadata": {},
   "outputs": [],
   "source": [
    "csv_file_name = \"advertising.csv\" "
   ]
  },
  {
   "cell_type": "code",
   "execution_count": 3,
   "metadata": {},
   "outputs": [],
   "source": [
    "def get_data(file_name):\n",
    "    data = np.genfromtxt(file_name, delimiter=',', skip_header=1)\n",
    "    N = data.shape[0]\n",
    "    \n",
    "    X = data[:, :3]\n",
    "    y = data[:, 3:]\n",
    "    \n",
    "    return data, X, y\n",
    "\n",
    "def mean_normalization(X):\n",
    "    N = len(X)\n",
    "    \n",
    "    maxi = np.max(X)\n",
    "    mini = np.min(X)\n",
    "    avg = np.mean(X)\n",
    "    \n",
    "    X = (X - avg) / (maxi - mini)\n",
    "    X_b = np.c_[np.ones((N, 1)), X]\n",
    "    \n",
    "    return X_b, maxi, mini, avg \n",
    "    "
   ]
  },
  {
   "cell_type": "code",
   "execution_count": 4,
   "metadata": {},
   "outputs": [],
   "source": [
    "data, X, y = get_data(csv_file_name)"
   ]
  },
  {
   "cell_type": "code",
   "execution_count": 5,
   "metadata": {},
   "outputs": [],
   "source": [
    "X_b, maxi, mini, avg = mean_normalization(X)"
   ]
  },
  {
   "cell_type": "markdown",
   "metadata": {},
   "source": [
    "## Debugging"
   ]
  },
  {
   "cell_type": "code",
   "execution_count": 6,
   "metadata": {},
   "outputs": [
    {
     "name": "stdout",
     "output_type": "stream",
     "text": [
      "[[ 1.16270837]\n",
      " [-0.81960489]\n",
      " [ 1.39501033]\n",
      " [ 0.29763545]]\n"
     ]
    }
   ],
   "source": [
    "thetas = np.asarray([[1.16270837], [ -0.81960489], [1.39501033], [0.29763545]])\n",
    "print(thetas)"
   ]
  },
  {
   "cell_type": "code",
   "execution_count": 7,
   "metadata": {},
   "outputs": [
    {
     "name": "stdout",
     "output_type": "stream",
     "text": [
      "[[ 1.          0.2852446  -0.08655027 -0.02852058]]\n"
     ]
    }
   ],
   "source": [
    "xi = X_b[3:4]\n",
    "print(xi)"
   ]
  },
  {
   "cell_type": "code",
   "execution_count": 8,
   "metadata": {},
   "outputs": [
    {
     "name": "stdout",
     "output_type": "stream",
     "text": [
      "[[0.79969324]]\n"
     ]
    }
   ],
   "source": [
    "yi_hat = np.dot(xi, thetas)\n",
    "print(yi_hat)"
   ]
  },
  {
   "cell_type": "markdown",
   "metadata": {},
   "source": [
    "## Linear Regression"
   ]
  },
  {
   "cell_type": "code",
   "execution_count": 9,
   "metadata": {},
   "outputs": [],
   "source": [
    "def predict(xi, thetas):\n",
    "    return np.dot(xi, thetas)\n",
    "\n",
    "def compute_loss(yi_hat, yi):\n",
    "    loss = (yi_hat - yi) ** 2\n",
    "    return loss \n",
    "\n",
    "def compute_gd_thetas(xi, yi_hat, yi):\n",
    "    return 2 * xi.T * (yi_hat - yi)\n",
    "\n",
    "def update_thetas(thetas, thetas_gd, lr):\n",
    "    new_thetas = thetas - lr * thetas_gd\n",
    "    return new_thetas\n",
    "    "
   ]
  },
  {
   "cell_type": "markdown",
   "metadata": {},
   "source": [
    "### 1) Stochastic_Gradient_Descent"
   ]
  },
  {
   "cell_type": "code",
   "execution_count": 10,
   "metadata": {},
   "outputs": [],
   "source": [
    "def stochastic_gradient_descent(X_b, y, n_epochs=50, learning_rate=0.00001):\n",
    "    thetas = np.asarray([[1.16270837], [ -0.81960489], [1.39501033], [0.29763545]])\n",
    "    \n",
    "    thetas_path = [thetas]\n",
    "    losses = []\n",
    "    \n",
    "    N = len(y)\n",
    "    \n",
    "    for epoch in range(n_epochs):\n",
    "        for i in range(N):\n",
    "            random_index = i\n",
    "            \n",
    "            xi = X_b[random_index:random_index+1]\n",
    "            yi = y[random_index:random_index+1]\n",
    "            \n",
    "            # Predict\n",
    "            yi_hat = predict(xi, thetas)\n",
    "            # Loss\n",
    "            loss = compute_loss(yi_hat, yi)\n",
    "            # Gradient Descent for loss\n",
    "            # loss_gd = compute_gd_loss(loss)\n",
    "            \n",
    "            # Gradient Descent for thetas \n",
    "            thetas_gd = compute_gd_thetas(xi, yi_hat, yi)\n",
    "            # Update theta\n",
    "            thetas = update_thetas(thetas, thetas_gd, learning_rate)\n",
    "            # Logging\n",
    "            thetas_path.append(thetas)\n",
    "            losses.append(loss[0])\n",
    "            \n",
    "    return thetas_path, losses"
   ]
  },
  {
   "cell_type": "code",
   "execution_count": 11,
   "metadata": {},
   "outputs": [],
   "source": [
    "sgd_thetas, losses = stochastic_gradient_descent(X_b, y, n_epochs=50, learning_rate=0.01)"
   ]
  },
  {
   "cell_type": "code",
   "execution_count": 12,
   "metadata": {},
   "outputs": [],
   "source": [
    "def visualize_sgd(losses):\n",
    "    x_axis = list(range(500))\n",
    "    plt.plot(x_axis, losses[:500], color='r')\n",
    "    plt.title(\"Losses using SGD Linear Regression\")\n",
    "    plt.xlabel(\"#iteration\")\n",
    "    plt.ylabel(\"Loss\")\n",
    "    plt.show()"
   ]
  },
  {
   "cell_type": "code",
   "execution_count": 13,
   "metadata": {},
   "outputs": [
    {
     "data": {
      "image/png": "[encoded data removed]",
      "text/plain": [
       "<Figure size 640x480 with 1 Axes>"
      ]
     },
     "metadata": {},
     "output_type": "display_data"
    }
   ],
   "source": [
    "visualize_sgd(losses)"
   ]
  },
  {
   "cell_type": "code",
   "execution_count": 14,
   "metadata": {},
   "outputs": [
    {
     "name": "stdout",
     "output_type": "stream",
     "text": [
      "8392.629213090673\n"
     ]
    }
   ],
   "source": [
    "sgd_thetas, losses = stochastic_gradient_descent(X_b, y, n_epochs=1, learning_rate=0.01)\n",
    "print(np.sum(losses))"
   ]
  },
  {
   "cell_type": "markdown",
   "metadata": {},
   "source": [
    "Q1: c 8754.64"
   ]
  },
  {
   "cell_type": "markdown",
   "metadata": {},
   "source": [
    "### 2) Mini_Batch_Gradient_Descent"
   ]
  }
 ],
 "metadata": {
  "kernelspec": {
   "display_name": "base",
   "language": "python",
   "name": "python3"
  },
  "language_info": {
   "codemirror_mode": {
    "name": "ipython",
    "version": 3
   },
   "file_extension": ".py",
   "mimetype": "text/x-python",
   "name": "python",
   "nbconvert_exporter": "python",
   "pygments_lexer": "ipython3",
   "version": "3.11.7"
  }
 },
 "nbformat": 4,
 "nbformat_minor": 2
}
