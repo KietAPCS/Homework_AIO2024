{
 "cells": [
  {
   "cell_type": "markdown",
   "metadata": {},
   "source": [
    "# Exercise 1"
   ]
  },
  {
   "cell_type": "markdown",
   "metadata": {},
   "source": [
    "## Library"
   ]
  },
  {
   "cell_type": "code",
   "execution_count": 1,
   "metadata": {},
   "outputs": [],
   "source": [
    "import numpy as np \n",
    "import pandas as pd\n",
    "import matplotlib.pyplot as plt"
   ]
  },
  {
   "cell_type": "markdown",
   "metadata": {},
   "source": [
    "## Data preparation"
   ]
  },
  {
   "cell_type": "code",
   "execution_count": 2,
   "metadata": {},
   "outputs": [],
   "source": [
    "csv_file_name = \"advertising.csv\" "
   ]
  },
  {
   "cell_type": "code",
   "execution_count": 3,
   "metadata": {},
   "outputs": [],
   "source": [
    "def get_data(file_name):\n",
    "    data = np.genfromtxt(file_name, delimiter=',', skip_header=1)\n",
    "    N = data.shape[0]\n",
    "    \n",
    "    X = data[:, :3]\n",
    "    y = data[:, 3:]\n",
    "    \n",
    "    return data, X, y\n",
    "\n",
    "def mean_normalization(X):\n",
    "    N = len(X)\n",
    "    \n",
    "    maxi = np.max(X)\n",
    "    mini = np.min(X)\n",
    "    avg = np.mean(X)\n",
    "    \n",
    "    X = (X - avg) / (maxi - mini)\n",
    "    X_b = np.c_[np.ones((N, 1)), X]\n",
    "    \n",
    "    return X_b, maxi, mini, avg \n",
    "    "
   ]
  },
  {
   "cell_type": "code",
   "execution_count": 4,
   "metadata": {},
   "outputs": [],
   "source": [
    "data, X, y = get_data(csv_file_name)"
   ]
  },
  {
   "cell_type": "code",
   "execution_count": 5,
   "metadata": {},
   "outputs": [],
   "source": [
    "X_b, maxi, mini, avg = mean_normalization(X)"
   ]
  },
  {
   "cell_type": "markdown",
   "metadata": {},
   "source": [
    "## Debugging"
   ]
  },
  {
   "cell_type": "code",
   "execution_count": 6,
   "metadata": {},
   "outputs": [
    {
     "name": "stdout",
     "output_type": "stream",
     "text": [
      "[[ 1.16270837]\n",
      " [-0.81960489]\n",
      " [ 1.39501033]\n",
      " [ 0.29763545]]\n"
     ]
    }
   ],
   "source": [
    "thetas = np.asarray([[1.16270837], [ -0.81960489], [1.39501033], [0.29763545]])\n",
    "print(thetas)"
   ]
  },
  {
   "cell_type": "code",
   "execution_count": 7,
   "metadata": {},
   "outputs": [
    {
     "name": "stdout",
     "output_type": "stream",
     "text": [
      "[[ 1.          0.2852446  -0.08655027 -0.02852058]]\n"
     ]
    }
   ],
   "source": [
    "xi = X_b[3:4]\n",
    "print(xi)"
   ]
  },
  {
   "cell_type": "code",
   "execution_count": 8,
   "metadata": {},
   "outputs": [
    {
     "name": "stdout",
     "output_type": "stream",
     "text": [
      "[[0.79969324]]\n"
     ]
    }
   ],
   "source": [
    "yi_hat = np.dot(xi, thetas)\n",
    "print(yi_hat)"
   ]
  },
  {
   "cell_type": "code",
   "execution_count": 9,
   "metadata": {},
   "outputs": [
    {
     "data": {
      "text/plain": [
       "array([[4],\n",
       "       [4]])"
      ]
     },
     "execution_count": 9,
     "metadata": {},
     "output_type": "execute_result"
    }
   ],
   "source": [
    "y1 = np.array([[4],\n",
    "      [5]])\n",
    "\n",
    "y2 = np.array([[6],\n",
    "      [7]])\n",
    "\n",
    "(y1 - y2) * (y1 - y2)"
   ]
  },
  {
   "cell_type": "code",
   "execution_count": 10,
   "metadata": {},
   "outputs": [
    {
     "data": {
      "text/plain": [
       "(200, 1)"
      ]
     },
     "execution_count": 10,
     "metadata": {},
     "output_type": "execute_result"
    }
   ],
   "source": [
    "y.shape"
   ]
  },
  {
   "cell_type": "markdown",
   "metadata": {},
   "source": [
    "## Linear Regression"
   ]
  },
  {
   "cell_type": "code",
   "execution_count": 11,
   "metadata": {},
   "outputs": [],
   "source": [
    "def predict(xi, thetas):\n",
    "    return np.dot(xi, thetas)\n",
    "\n",
    "def compute_loss(yi_hat, yi):\n",
    "    loss = (yi_hat - yi) * (yi_hat - yi)\n",
    "    return loss \n",
    "\n",
    "def compute_gd_thetas(xi, yi_hat, yi):\n",
    "    return np.dot(xi.T, 2 * (yi_hat - yi))\n",
    "\n",
    "def update_thetas(thetas, thetas_gd, lr):\n",
    "    new_thetas = thetas - lr * thetas_gd\n",
    "    return new_thetas"
   ]
  },
  {
   "cell_type": "markdown",
   "metadata": {},
   "source": [
    "### 1) Stochastic_Gradient_Descent"
   ]
  },
  {
   "cell_type": "code",
   "execution_count": 12,
   "metadata": {},
   "outputs": [],
   "source": [
    "def stochastic_gradient_descent(X_b, y, n_epochs=50, learning_rate=0.00001):\n",
    "    thetas = np.asarray([[1.16270837], [ -0.81960489], [1.39501033], [0.29763545]])\n",
    "    \n",
    "    thetas_path = [thetas]\n",
    "    losses = []\n",
    "    \n",
    "    N = len(y)\n",
    "    \n",
    "    for epoch in range(n_epochs):\n",
    "        for i in range(N):\n",
    "            random_index = i\n",
    "            \n",
    "            xi = X_b[random_index:random_index+1]\n",
    "            yi = y[random_index:random_index+1]\n",
    "            \n",
    "            # Predict\n",
    "            yi_hat = predict(xi, thetas)\n",
    "            # Loss\n",
    "            loss = compute_loss(yi_hat, yi)\n",
    "            # Gradient Descent for loss\n",
    "            # loss_gd = compute_gd_loss(loss)\n",
    "            \n",
    "            # Gradient Descent for thetas \n",
    "            thetas_gd = compute_gd_thetas(xi, yi_hat, yi)\n",
    "            # Update theta\n",
    "            thetas = update_thetas(thetas, thetas_gd, learning_rate)\n",
    "            # Logging\n",
    "            thetas_path.append(thetas)\n",
    "            losses.append(loss[0])\n",
    "            \n",
    "    return thetas_path, losses"
   ]
  },
  {
   "cell_type": "code",
   "execution_count": 13,
   "metadata": {},
   "outputs": [],
   "source": [
    "sgd_thetas, losses = stochastic_gradient_descent(X_b, y, n_epochs=50, learning_rate=0.01)"
   ]
  },
  {
   "cell_type": "code",
   "execution_count": 14,
   "metadata": {},
   "outputs": [],
   "source": [
    "def visualize_sgd(losses):\n",
    "    x_axis = list(range(500))\n",
    "    plt.plot(x_axis, losses[:500], color='r')\n",
    "    plt.title(\"Losses using SGD Linear Regression\")\n",
    "    plt.xlabel(\"#iteration\")\n",
    "    plt.ylabel(\"Loss\")\n",
    "    plt.show()"
   ]
  },
  {
   "cell_type": "code",
   "execution_count": 15,
   "metadata": {},
   "outputs": [
    {
     "data": {
      "image/png": "[encoded data removed]",
      "text/plain": [
       "<Figure size 640x480 with 1 Axes>"
      ]
     },
     "metadata": {},
     "output_type": "display_data"
    }
   ],
   "source": [
    "visualize_sgd(losses)"
   ]
  },
  {
   "cell_type": "code",
   "execution_count": 16,
   "metadata": {},
   "outputs": [
    {
     "name": "stdout",
     "output_type": "stream",
     "text": [
      "8392.629213090673\n"
     ]
    }
   ],
   "source": [
    "sgd_thetas, losses = stochastic_gradient_descent(X_b, y, n_epochs=1, learning_rate=0.01)\n",
    "print(np.sum(losses))"
   ]
  },
  {
   "cell_type": "markdown",
   "metadata": {},
   "source": [
    "Q1: c) 8754.64"
   ]
  },
  {
   "cell_type": "markdown",
   "metadata": {},
   "source": [
    "### 2) Mini_Batch_Gradient_Descent"
   ]
  },
  {
   "cell_type": "code",
   "execution_count": 17,
   "metadata": {},
   "outputs": [],
   "source": [
    "def mini_batch_gradient_descent(X_b, y, n_epochs=50, minibatch_size=20, learning_rate=0.01):\n",
    "    thetas = np. asarray ([[1.16270837] , [ -0.81960489] , [1.39501033] , [0.29763545]])\n",
    "\n",
    "    thetas_path = [ thetas ]\n",
    "    losses = []\n",
    "    \n",
    "    N = len(y)\n",
    "    \n",
    "    for epoch in range(n_epochs):\n",
    "        shuffled_indices = np. asarray ([21 , 144 , 17, 107 , 37, 115 , 167 , 31, 3,\n",
    "        132 , 179 , 155 , 36, 191 , 182 , 170 , 27, 35, 162 , 25, 28, 73, 172 , 152 , 102 , 16,\n",
    "        185 , 11, 1, 34, 177 , 29, 96, 22, 76, 196 , 6, 128 , 114 , 117 , 111 , 43, 57, 126 ,\n",
    "        165 , 78, 151 , 104 , 110 , 53, 181 , 113 , 173 , 75, 23, 161 , 85, 94, 18, 148 , 190 ,\n",
    "        169 , 149 , 79, 138 , 20, 108 , 137 , 93, 192 , 198 , 153 , 4, 45, 164 , 26, 8, 131 ,\n",
    "        77, 80, 130 , 127 , 125 , 61, 10, 175 , 143 , 87, 33, 50, 54, 97, 9, 84, 188 , 139 ,\n",
    "        195 , 72, 64, 194 , 44, 109 , 112 , 60, 86, 90, 140 , 171 , 59, 199 , 105 , 41, 147 ,\n",
    "        92, 52, 124 , 71, 197 , 163 , 98, 189 , 103 , 51, 39, 180 , 74, 145 , 118 , 38, 47,\n",
    "        174 , 100 , 184 , 183 , 160 , 69, 91, 82, 42, 89, 81, 186 , 136 , 63, 157 , 46, 67,\n",
    "        129 , 120 , 116 , 32, 19, 187 , 70, 141 , 146 , 15, 58, 119 , 12, 95, 0, 40, 83, 24,\n",
    "        168 , 150 , 178 , 49, 159 , 7, 193 , 48, 30, 14, 121 , 5, 142 , 65, 176 , 101 , 55,\n",
    "        133 , 13, 106 , 66, 99, 68, 135 , 158 , 88, 62, 166 , 156 , 2, 134 , 56, 123 , 122 ,\n",
    "        154])\n",
    "        \n",
    "        X_b_shuffled = X_b[shuffled_indices]\n",
    "        y_shuffled = y[shuffled_indices]\n",
    "        \n",
    "        for i in range(0, N, minibatch_size):\n",
    "            xi = X_b_shuffled[i:i+minibatch_size]\n",
    "            yi = y_shuffled[i:i+minibatch_size]\n",
    "            \n",
    "            yi_hat = predict(xi, thetas)\n",
    "            \n",
    "            loss = compute_loss(yi_hat, yi)\n",
    "            \n",
    "            thetas_gd = compute_gd_thetas(xi, yi_hat, yi)\n",
    "            \n",
    "            thetas = thetas - learning_rate * (thetas_gd / minibatch_size)\n",
    "            thetas_path.append(thetas)\n",
    "            \n",
    "            loss_mean = np.sum(loss) / minibatch_size\n",
    "            losses.append(loss_mean)\n",
    "            \n",
    "    return thetas_path, losses        "
   ]
  },
  {
   "cell_type": "code",
   "execution_count": 18,
   "metadata": {},
   "outputs": [],
   "source": [
    "def visualize_mini_batch(losses):\n",
    "    x_axis = list(range(200))\n",
    "    plt.plot(x_axis, losses[:200], color='r')\n",
    "    plt.title(\"Losses using Mini-Batch Linear Regression\")\n",
    "    plt.xlabel(\"#iteration\")\n",
    "    plt.ylabel(\"Loss\")\n",
    "    plt.show()"
   ]
  },
  {
   "cell_type": "code",
   "execution_count": 19,
   "metadata": {},
   "outputs": [],
   "source": [
    "thetas_path, losses = mini_batch_gradient_descent(X_b, y, n_epochs=50, minibatch_size=20, learning_rate=0.01)"
   ]
  },
  {
   "cell_type": "code",
   "execution_count": 20,
   "metadata": {},
   "outputs": [
    {
     "data": {
      "image/png": "[encoded data removed]",
      "text/plain": [
       "<Figure size 640x480 with 1 Axes>"
      ]
     },
     "metadata": {},
     "output_type": "display_data"
    }
   ],
   "source": [
    "visualize_mini_batch(losses)"
   ]
  },
  {
   "cell_type": "code",
   "execution_count": 28,
   "metadata": {},
   "outputs": [
    {
     "name": "stdout",
     "output_type": "stream",
     "text": [
      "11402.48\n"
     ]
    }
   ],
   "source": [
    "mbgd_thetas, losses = mini_batch_gradient_descent(X_b, y, n_epochs=50, minibatch_size=20, learning_rate=0.01)\n",
    "print(round(sum(losses), 2))"
   ]
  },
  {
   "cell_type": "markdown",
   "metadata": {},
   "source": [
    "Q2: d) 8865.65"
   ]
  },
  {
   "cell_type": "markdown",
   "metadata": {},
   "source": [
    "### 3) Batch Gradient Descent"
   ]
  },
  {
   "cell_type": "code",
   "execution_count": 22,
   "metadata": {},
   "outputs": [],
   "source": [
    "def batch_gradient_descent(X_b, y, n_epochs=100, learning_rate=0.01):\n",
    "    thetas = np. asarray ([[1.16270837] , [ -0.81960489] , [1.39501033] , [0.29763545]])\n",
    "    \n",
    "    thetas_path = [thetas]\n",
    "    losses = []\n",
    "    \n",
    "    N = len(y)\n",
    "    \n",
    "    for epoch in range(n_epochs):\n",
    "        y_hat = predict(X_b, thetas)\n",
    "        \n",
    "        loss = compute_loss(y_hat, y)\n",
    "        \n",
    "        thetas_gd = compute_gd_thetas(X_b, y_hat, y)\n",
    "        \n",
    "        thetas = thetas - learning_rate * (thetas_gd / N)\n",
    "        thetas_path.append(thetas)\n",
    "        \n",
    "        loss_mean = np.sum(loss) / N \n",
    "        losses.append(loss_mean)\n",
    "        \n",
    "    return thetas_path, losses"
   ]
  },
  {
   "cell_type": "code",
   "execution_count": 23,
   "metadata": {},
   "outputs": [],
   "source": [
    "def visualize_bgd(losses):\n",
    "    x_axis = list(range(100))\n",
    "    plt.plot(x_axis, losses[:100], color='r')\n",
    "    plt.title(\"Losses using Batch Linear Regression\")\n",
    "    plt.xlabel(\"#iteration\")\n",
    "    plt.ylabel(\"Loss\")\n",
    "    plt.show()"
   ]
  },
  {
   "cell_type": "code",
   "execution_count": 24,
   "metadata": {},
   "outputs": [],
   "source": [
    "bgd_thetas, losses = batch_gradient_descent(X_b, y, n_epochs=100, learning_rate=0.01)"
   ]
  },
  {
   "cell_type": "code",
   "execution_count": 25,
   "metadata": {},
   "outputs": [
    {
     "data": {
      "image/png": "[encoded data removed]",
      "text/plain": [
       "<Figure size 640x480 with 1 Axes>"
      ]
     },
     "metadata": {},
     "output_type": "display_data"
    }
   ],
   "source": [
    "visualize_bgd(losses)"
   ]
  },
  {
   "cell_type": "code",
   "execution_count": 26,
   "metadata": {},
   "outputs": [],
   "source": [
    "bgd_thetas, losses = batch_gradient_descent(X_b, y, n_epochs=100, learning_rate=0.01)"
   ]
  },
  {
   "cell_type": "code",
   "execution_count": 27,
   "metadata": {},
   "outputs": [
    {
     "name": "stdout",
     "output_type": "stream",
     "text": [
      "6716.46\n"
     ]
    }
   ],
   "source": [
    "print(round(sum(losses), 2))"
   ]
  },
  {
   "cell_type": "markdown",
   "metadata": {},
   "source": [
    "Q3: c) 6716.46"
   ]
  }
 ],
 "metadata": {
  "kernelspec": {
   "display_name": "base",
   "language": "python",
   "name": "python3"
  },
  "language_info": {
   "codemirror_mode": {
    "name": "ipython",
    "version": 3
   },
   "file_extension": ".py",
   "mimetype": "text/x-python",
   "name": "python",
   "nbconvert_exporter": "python",
   "pygments_lexer": "ipython3",
   "version": "3.11.7"
  }
 },
 "nbformat": 4,
 "nbformat_minor": 2
}
