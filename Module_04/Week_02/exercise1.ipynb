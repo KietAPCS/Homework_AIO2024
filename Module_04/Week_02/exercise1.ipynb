{
 "cells": [
  {
   "cell_type": "markdown",
   "metadata": {},
   "source": [
    "# Exercise 1"
   ]
  },
  {
   "cell_type": "markdown",
   "metadata": {},
   "source": [
    "## Library"
   ]
  },
  {
   "cell_type": "code",
   "execution_count": 4,
   "metadata": {},
   "outputs": [],
   "source": [
    "import numpy as np \n",
    "import pandas as pd\n",
    "import matplotlib.pyplot as plt"
   ]
  },
  {
   "cell_type": "markdown",
   "metadata": {},
   "source": [
    "## Data preparation"
   ]
  },
  {
   "cell_type": "code",
   "execution_count": 5,
   "metadata": {},
   "outputs": [],
   "source": [
    "csv_file_name = \"advertising.csv\" "
   ]
  },
  {
   "cell_type": "code",
   "execution_count": 6,
   "metadata": {},
   "outputs": [],
   "source": [
    "def get_data(file_name):\n",
    "    data = np.genfromtxt(file_name, delimiter=',', skip_header=1)\n",
    "    N = data.shape[0]\n",
    "    \n",
    "    X = data[:, :3]\n",
    "    y = data[:, 3:]\n",
    "    \n",
    "    return data, X, y\n",
    "\n",
    "def mean_normalization(X):\n",
    "    N = len(X)\n",
    "    \n",
    "    maxi = np.max(X)\n",
    "    mini = np.min(X)\n",
    "    avg = np.mean(X)\n",
    "    \n",
    "    X = (X - avg) / (maxi - mini)\n",
    "    X_b = np.c_[np.ones((N, 1)), X]\n",
    "    \n",
    "    return X_b, maxi, mini, avg \n",
    "    "
   ]
  },
  {
   "cell_type": "code",
   "execution_count": 7,
   "metadata": {},
   "outputs": [],
   "source": [
    "data, X, y = get_data(csv_file_name)"
   ]
  },
  {
   "cell_type": "code",
   "execution_count": 8,
   "metadata": {},
   "outputs": [],
   "source": [
    "X_b, maxi, mini, avg = mean_normalization(X)"
   ]
  },
  {
   "cell_type": "markdown",
   "metadata": {},
   "source": [
    "## Debugging"
   ]
  },
  {
   "cell_type": "code",
   "execution_count": 9,
   "metadata": {},
   "outputs": [
    {
     "name": "stdout",
     "output_type": "stream",
     "text": [
      "[[ 1.16270837]\n",
      " [-0.81960489]\n",
      " [ 1.39501033]\n",
      " [ 0.29763545]]\n"
     ]
    }
   ],
   "source": [
    "thetas = np.asarray([[1.16270837], [ -0.81960489], [1.39501033], [0.29763545]])\n",
    "print(thetas)"
   ]
  },
  {
   "cell_type": "code",
   "execution_count": 10,
   "metadata": {},
   "outputs": [
    {
     "name": "stdout",
     "output_type": "stream",
     "text": [
      "[[ 1.          0.2852446  -0.08655027 -0.02852058]]\n"
     ]
    }
   ],
   "source": [
    "xi = X_b[3:4]\n",
    "print(xi)"
   ]
  },
  {
   "cell_type": "code",
   "execution_count": 11,
   "metadata": {},
   "outputs": [
    {
     "name": "stdout",
     "output_type": "stream",
     "text": [
      "[[0.79969324]]\n"
     ]
    }
   ],
   "source": [
    "yi_hat = np.dot(xi, thetas)\n",
    "print(yi_hat)"
   ]
  },
  {
   "cell_type": "code",
   "execution_count": 12,
   "metadata": {},
   "outputs": [
    {
     "data": {
      "text/plain": [
       "array([[4],\n",
       "       [4]])"
      ]
     },
     "execution_count": 12,
     "metadata": {},
     "output_type": "execute_result"
    }
   ],
   "source": [
    "y1 = np.array([[4],\n",
    "      [5]])\n",
    "\n",
    "y2 = np.array([[6],\n",
    "      [7]])\n",
    "\n",
    "(y1 - y2) * (y1 - y2)"
   ]
  },
  {
   "cell_type": "code",
   "execution_count": 13,
   "metadata": {},
   "outputs": [
    {
     "data": {
      "text/plain": [
       "(200, 1)"
      ]
     },
     "execution_count": 13,
     "metadata": {},
     "output_type": "execute_result"
    }
   ],
   "source": [
    "y.shape"
   ]
  },
  {
   "cell_type": "markdown",
   "metadata": {},
   "source": [
    "## Linear Regression"
   ]
  },
  {
   "cell_type": "code",
   "execution_count": 14,
   "metadata": {},
   "outputs": [],
   "source": [
    "def predict(xi, thetas):\n",
    "    return np.dot(xi, thetas)\n",
    "\n",
    "def compute_loss(yi_hat, yi):\n",
    "    loss = (yi_hat - yi) * (yi_hat - yi) / 2\n",
    "    return loss \n",
    "\n",
    "def compute_gd_thetas(xi, yi_hat, yi):\n",
    "    return xi.T.dot(yi_hat - yi)\n",
    "\n",
    "def update_thetas(thetas, thetas_gd, lr):\n",
    "    new_thetas = thetas - lr * thetas_gd\n",
    "    return new_thetas"
   ]
  },
  {
   "cell_type": "markdown",
   "metadata": {},
   "source": [
    "### 1) Stochastic_Gradient_Descent"
   ]
  },
  {
   "cell_type": "code",
   "execution_count": 15,
   "metadata": {},
   "outputs": [],
   "source": [
    "def stochastic_gradient_descent(X_b, y, n_epochs=50, learning_rate=0.00001):\n",
    "    thetas = np.asarray([[1.16270837], [ -0.81960489], [1.39501033], [0.29763545]])\n",
    "    \n",
    "    thetas_path = [thetas]\n",
    "    losses = []\n",
    "    \n",
    "    N = len(y)\n",
    "    \n",
    "    for epoch in range(n_epochs):\n",
    "        for i in range(N):\n",
    "            random_index = i\n",
    "            \n",
    "            xi = X_b[random_index:random_index+1]\n",
    "            yi = y[random_index:random_index+1]\n",
    "            \n",
    "            # Predict\n",
    "            yi_hat = predict(xi, thetas)\n",
    "            # Loss\n",
    "            loss = compute_loss(yi_hat, yi)\n",
    "            # Gradient Descent for loss\n",
    "            # loss_gd = compute_gd_loss(loss)\n",
    "            \n",
    "            # Gradient Descent for thetas \n",
    "            thetas_gd = compute_gd_thetas(xi, yi_hat, yi)\n",
    "        \n",
    "            # Update theta\n",
    "            thetas = update_thetas(thetas, thetas_gd, learning_rate)\n",
    "            # Logging\n",
    "            thetas_path.append(thetas)\n",
    "            losses.append(loss[0])\n",
    "            \n",
    "    return thetas_path, losses"
   ]
  },
  {
   "cell_type": "code",
   "execution_count": 16,
   "metadata": {},
   "outputs": [],
   "source": [
    "sgd_thetas, losses = stochastic_gradient_descent(X_b, y, n_epochs=50, learning_rate=0.01)"
   ]
  },
  {
   "cell_type": "code",
   "execution_count": 17,
   "metadata": {},
   "outputs": [],
   "source": [
    "def visualize_sgd(losses):\n",
    "    x_axis = list(range(500))\n",
    "    plt.plot(x_axis, losses[:500], color='r')\n",
    "    plt.title(\"Losses using SGD Linear Regression\")\n",
    "    plt.xlabel(\"#iteration\")\n",
    "    plt.ylabel(\"Loss\")\n",
    "    plt.show()"
   ]
  },
  {
   "cell_type": "code",
   "execution_count": 18,
   "metadata": {},
   "outputs": [
    {
     "data": {
      "image/png": "[encoded data removed]",
      "text/plain": [
       "<Figure size 640x480 with 1 Axes>"
      ]
     },
     "metadata": {},
     "output_type": "display_data"
    }
   ],
   "source": [
    "visualize_sgd(losses)"
   ]
  },
  {
   "cell_type": "code",
   "execution_count": 19,
   "metadata": {},
   "outputs": [
    {
     "name": "stdout",
     "output_type": "stream",
     "text": [
      "6754.643359356192\n"
     ]
    }
   ],
   "source": [
    "sgd_thetas, losses = stochastic_gradient_descent(X_b, y, n_epochs=1, learning_rate=0.01)\n",
    "print(np.sum(losses))"
   ]
  },
  {
   "cell_type": "markdown",
   "metadata": {},
   "source": [
    "Q1: b) 6754.64"
   ]
  },
  {
   "cell_type": "markdown",
   "metadata": {},
   "source": [
    "### 2) Mini_Batch_Gradient_Descent"
   ]
  },
  {
   "cell_type": "code",
   "execution_count": 20,
   "metadata": {},
   "outputs": [],
   "source": [
    "def mini_batch_gradient_descent(X_b, y, n_epochs=50, minibatch_size=20, learning_rate=0.01):\n",
    "    thetas = np. asarray ([[1.16270837] , [ -0.81960489] , [1.39501033] , [0.29763545]])\n",
    "\n",
    "    thetas_path = [ thetas ]\n",
    "    losses = []\n",
    "    \n",
    "    N = len(y)\n",
    "    \n",
    "    for epoch in range(n_epochs):\n",
    "        shuffled_indices = np. asarray ([21 , 144 , 17, 107 , 37, 115 , 167 , 31, 3,\n",
    "        132 , 179 , 155 , 36, 191 , 182 , 170 , 27, 35, 162 , 25, 28, 73, 172 , 152 , 102 , 16,\n",
    "        185 , 11, 1, 34, 177 , 29, 96, 22, 76, 196 , 6, 128 , 114 , 117 , 111 , 43, 57, 126 ,\n",
    "        165 , 78, 151 , 104 , 110 , 53, 181 , 113 , 173 , 75, 23, 161 , 85, 94, 18, 148 , 190 ,\n",
    "        169 , 149 , 79, 138 , 20, 108 , 137 , 93, 192 , 198 , 153 , 4, 45, 164 , 26, 8, 131 ,\n",
    "        77, 80, 130 , 127 , 125 , 61, 10, 175 , 143 , 87, 33, 50, 54, 97, 9, 84, 188 , 139 ,\n",
    "        195 , 72, 64, 194 , 44, 109 , 112 , 60, 86, 90, 140 , 171 , 59, 199 , 105 , 41, 147 ,\n",
    "        92, 52, 124 , 71, 197 , 163 , 98, 189 , 103 , 51, 39, 180 , 74, 145 , 118 , 38, 47,\n",
    "        174 , 100 , 184 , 183 , 160 , 69, 91, 82, 42, 89, 81, 186 , 136 , 63, 157 , 46, 67,\n",
    "        129 , 120 , 116 , 32, 19, 187 , 70, 141 , 146 , 15, 58, 119 , 12, 95, 0, 40, 83, 24,\n",
    "        168 , 150 , 178 , 49, 159 , 7, 193 , 48, 30, 14, 121 , 5, 142 , 65, 176 , 101 , 55,\n",
    "        133 , 13, 106 , 66, 99, 68, 135 , 158 , 88, 62, 166 , 156 , 2, 134 , 56, 123 , 122 ,\n",
    "        154])\n",
    "        \n",
    "        X_b_shuffled = X_b[shuffled_indices]\n",
    "        y_shuffled = y[shuffled_indices]\n",
    "        \n",
    "        for i in range(0, N, minibatch_size):\n",
    "            xi = X_b_shuffled[i:i+minibatch_size]\n",
    "            yi = y_shuffled[i:i+minibatch_size]\n",
    "            \n",
    "            yi_hat = predict(xi, thetas)\n",
    "            \n",
    "            loss = compute_loss(yi_hat, yi)\n",
    "            \n",
    "            thetas_gd = compute_gd_thetas(xi, yi_hat, yi)\n",
    "            \n",
    "            thetas = thetas - learning_rate * (thetas_gd / minibatch_size)\n",
    "            thetas_path.append(thetas)\n",
    "            \n",
    "            loss_mean = np.sum(loss) / minibatch_size\n",
    "            losses.append(loss_mean)\n",
    "            \n",
    "    return thetas_path, losses        "
   ]
  },
  {
   "cell_type": "code",
   "execution_count": 21,
   "metadata": {},
   "outputs": [],
   "source": [
    "def visualize_mini_batch(losses):\n",
    "    x_axis = list(range(200))\n",
    "    plt.plot(x_axis, losses[:200], color='r')\n",
    "    plt.title(\"Losses using Mini-Batch Linear Regression\")\n",
    "    plt.xlabel(\"#iteration\")\n",
    "    plt.ylabel(\"Loss\")\n",
    "    plt.show()"
   ]
  },
  {
   "cell_type": "code",
   "execution_count": 22,
   "metadata": {},
   "outputs": [],
   "source": [
    "thetas_path, losses = mini_batch_gradient_descent(X_b, y, n_epochs=50, minibatch_size=20, learning_rate=0.01)"
   ]
  },
  {
   "cell_type": "code",
   "execution_count": 23,
   "metadata": {},
   "outputs": [
    {
     "data": {
      "image/png": "[encoded data removed]",
      "text/plain": [
       "<Figure size 640x480 with 1 Axes>"
      ]
     },
     "metadata": {},
     "output_type": "display_data"
    }
   ],
   "source": [
    "visualize_mini_batch(losses)"
   ]
  },
  {
   "cell_type": "code",
   "execution_count": 24,
   "metadata": {},
   "outputs": [
    {
     "name": "stdout",
     "output_type": "stream",
     "text": [
      "8865.65\n"
     ]
    }
   ],
   "source": [
    "mbgd_thetas, losses = mini_batch_gradient_descent(X_b, y, n_epochs=50, minibatch_size=20, learning_rate=0.01)\n",
    "print(round(sum(losses), 2))"
   ]
  },
  {
   "cell_type": "markdown",
   "metadata": {},
   "source": [
    "Q2: d) 8865.65"
   ]
  },
  {
   "cell_type": "markdown",
   "metadata": {},
   "source": [
    "### 3) Batch Gradient Descent"
   ]
  },
  {
   "cell_type": "code",
   "execution_count": 62,
   "metadata": {},
   "outputs": [],
   "source": [
    "def batch_gradient_descent(X_b, y, n_epochs=100, learning_rate=0.01):\n",
    "    thetas = np. asarray ([[1.16270837] , [ -0.81960489] , [1.39501033] , [0.29763545]])\n",
    "    \n",
    "    thetas_path = [thetas]\n",
    "    losses = []\n",
    "    \n",
    "    N = len(y)\n",
    "    \n",
    "    for epoch in range(n_epochs):\n",
    "        y_hat = predict(X_b, thetas)\n",
    "        \n",
    "        loss = (y_hat - y) ** 2\n",
    "        \n",
    "        loss_gd = 2 * (y_hat - y) / N\n",
    "        \n",
    "        thetas_gd = X_b.T.dot(loss_gd)\n",
    "        \n",
    "        # print(X_b.T)\n",
    "        # print(loss_gd)\n",
    "        # break\n",
    "        \n",
    "        thetas = thetas - learning_rate * thetas_gd\n",
    "        thetas_path.append(thetas)\n",
    "        \n",
    "        loss_mean = np.sum(loss) / N \n",
    "        losses.append(loss_mean)\n",
    "        \n",
    "    return thetas_path, losses"
   ]
  },
  {
   "cell_type": "code",
   "execution_count": 63,
   "metadata": {},
   "outputs": [],
   "source": [
    "def visualize_bgd(losses):\n",
    "    x_axis = list(range(100))\n",
    "    plt.plot(x_axis, losses[:100], color='r')\n",
    "    plt.title(\"Losses using Batch Linear Regression\")\n",
    "    plt.xlabel(\"#iteration\")\n",
    "    plt.ylabel(\"Loss\")\n",
    "    plt.show()"
   ]
  },
  {
   "cell_type": "code",
   "execution_count": 64,
   "metadata": {},
   "outputs": [
    {
     "name": "stdout",
     "output_type": "stream",
     "text": [
      "[[-21.52337957]\n",
      " [ -9.32729938]\n",
      " [-10.7964456 ]\n",
      " [-15.70030676]\n",
      " [-17.32497613]\n",
      " [ -5.95309811]\n",
      " [-10.81552932]\n",
      " [-12.46298285]\n",
      " [ -3.84739483]\n",
      " [-15.15346336]\n",
      " [-11.76568295]\n",
      " [-16.91121715]\n",
      " [ -8.06894042]\n",
      " [-12.96110933]\n",
      " [-18.39784302]\n",
      " [-21.69720064]\n",
      " [-11.4352489 ]\n",
      " [-23.97021839]\n",
      " [-10.41099393]\n",
      " [-13.91015047]\n",
      " [-17.45442838]\n",
      " [-17.14335897]\n",
      " [ -4.5463623 ]\n",
      " [-20.05994756]\n",
      " [ -8.82909551]\n",
      " [-16.72541863]\n",
      " [-14.27909552]\n",
      " [-20.49683196]\n",
      " [-18.47194145]\n",
      " [ -9.61345073]\n",
      " [-21.06785429]\n",
      " [-11.12603869]\n",
      " [-12.46609446]\n",
      " [-17.07450723]\n",
      " [-11.18511152]\n",
      " [-17.61051309]\n",
      " [-24.9613674 ]\n",
      " [-13.6626701 ]\n",
      " [ -9.09277184]\n",
      " [-20.95539836]\n",
      " [-16.05776775]\n",
      " [-16.4278833 ]\n",
      " [-20.4141864 ]\n",
      " [-17.44057683]\n",
      " [ -7.4394706 ]\n",
      " [-15.48116042]\n",
      " [ -9.80009701]\n",
      " [-22.68397575]\n",
      " [-19.33828421]\n",
      " [ -8.82747417]\n",
      " [-15.93765425]\n",
      " [ -9.96333039]\n",
      " [-21.99686433]\n",
      " [-20.46304169]\n",
      " [-19.80940582]\n",
      " [-22.99174817]\n",
      " [ -4.38086235]\n",
      " [-12.50408779]\n",
      " [-23.14610568]\n",
      " [-17.86894844]\n",
      " [ -7.25153787]\n",
      " [-23.70115229]\n",
      " [-20.29584927]\n",
      " [-13.17074008]\n",
      " [-15.16656031]\n",
      " [-10.48062636]\n",
      " [-10.00361634]\n",
      " [-12.74120719]\n",
      " [-18.45048519]\n",
      " [-21.70006776]\n",
      " [-17.70217243]\n",
      " [-11.63898552]\n",
      " [ -7.73391393]\n",
      " [-10.33406109]\n",
      " [-16.49566055]\n",
      " [ -7.48578659]\n",
      " [ -5.98222823]\n",
      " [-13.41931361]\n",
      " [ -4.19927013]\n",
      " [-10.29582858]\n",
      " [-10.89770631]\n",
      " [-16.9412461 ]\n",
      " [-10.41454375]\n",
      " [-12.57845336]\n",
      " [-21.08855096]\n",
      " [-19.61616467]\n",
      " [-11.09999084]\n",
      " [-15.08606162]\n",
      " [-11.98494699]\n",
      " [-15.76153523]\n",
      " [-13.37346747]\n",
      " [ -6.37338933]\n",
      " [-18.81957162]\n",
      " [-21.68390125]\n",
      " [-10.75464769]\n",
      " [-16.18421262]\n",
      " [-16.25850784]\n",
      " [-19.92485874]\n",
      " [-24.98508113]\n",
      " [-16.36600393]\n",
      " [-16.27923657]\n",
      " [-23.38193988]\n",
      " [-19.54028566]\n",
      " [-19.15515617]\n",
      " [-20.22641682]\n",
      " [-14.13819476]\n",
      " [ -6.2220365 ]\n",
      " [-11.25976727]\n",
      " [ -4.34313676]\n",
      " [-19.4086056 ]\n",
      " [-17.96355492]\n",
      " [-21.30070631]\n",
      " [-16.54545708]\n",
      " [-20.40638885]\n",
      " [-13.59583191]\n",
      " [-11.62452078]\n",
      " [-11.52640779]\n",
      " [ -8.62713625]\n",
      " [-15.028887  ]\n",
      " [ -5.59044967]\n",
      " [-14.75269743]\n",
      " [ -5.9337463 ]\n",
      " [-16.22694582]\n",
      " [-14.3996009 ]\n",
      " [-19.14258543]\n",
      " [ -9.79408249]\n",
      " [ -5.42217626]\n",
      " [-11.14703255]\n",
      " [-24.10984278]\n",
      " [ -8.79955001]\n",
      " [ -0.44132344]\n",
      " [-17.41100454]\n",
      " [ -4.62760374]\n",
      " [-19.03933648]\n",
      " [ -9.68899298]\n",
      " [-10.53831954]\n",
      " [ -8.4123983 ]\n",
      " [-20.39536979]\n",
      " [ -8.61092138]\n",
      " [-20.03746421]\n",
      " [-10.04450306]\n",
      " [-18.52759529]\n",
      " [-19.54991408]\n",
      " [ -9.66237124]\n",
      " [-11.49179555]\n",
      " [ -9.70447945]\n",
      " [-17.85533236]\n",
      " [-24.83189452]\n",
      " [ -9.83795746]\n",
      " [ -9.11599246]\n",
      " [-15.80811849]\n",
      " [-10.88065331]\n",
      " [-16.05698429]\n",
      " [-15.28347481]\n",
      " [-20.04495926]\n",
      " [ -2.18551997]\n",
      " [-14.33871033]\n",
      " [ -9.51820897]\n",
      " [ -6.14779607]\n",
      " [-12.17733458]\n",
      " [-15.7954829 ]\n",
      " [-12.35348085]\n",
      " [-19.34457081]\n",
      " [-17.30598144]\n",
      " [-11.18397501]\n",
      " [-16.48178545]\n",
      " [ -6.88534412]\n",
      " [-16.76239032]\n",
      " [-16.56121198]\n",
      " [-19.76433224]\n",
      " [ -7.49968966]\n",
      " [-16.84341346]\n",
      " [ -6.5770281 ]\n",
      " [-16.15389183]\n",
      " [-16.12032541]\n",
      " [-26.52806278]\n",
      " [-19.75885602]\n",
      " [-16.13308126]\n",
      " [-16.56500868]\n",
      " [-17.02768038]\n",
      " [-14.94696055]\n",
      " [-16.7857685 ]\n",
      " [ -7.83325521]\n",
      " [-25.75529379]\n",
      " [-17.20593563]\n",
      " [-21.96942228]\n",
      " [ -9.68365263]\n",
      " [-16.70957866]\n",
      " [-20.65621284]\n",
      " [ -5.70576484]\n",
      " [ -9.74446547]\n",
      " [-11.08641912]\n",
      " [ -4.93103497]\n",
      " [-18.89444857]\n",
      " [-16.57487535]\n",
      " [ -6.70886094]\n",
      " [-13.26378801]\n",
      " [-14.27374489]\n",
      " [-25.05456285]\n",
      " [-18.02709231]]\n"
     ]
    }
   ],
   "source": [
    "bgd_thetas, losses = batch_gradient_descent(X_b, y, n_epochs=100, learning_rate=0.01)"
   ]
  },
  {
   "cell_type": "code",
   "execution_count": 28,
   "metadata": {},
   "outputs": [
    {
     "data": {
      "image/png": "[encoded data removed]",
      "text/plain": [
       "<Figure size 640x480 with 1 Axes>"
      ]
     },
     "metadata": {},
     "output_type": "display_data"
    }
   ],
   "source": [
    "visualize_bgd(losses)"
   ]
  },
  {
   "cell_type": "code",
   "execution_count": 58,
   "metadata": {},
   "outputs": [],
   "source": [
    "bgd_thetas, losses = batch_gradient_descent(X_b, y, n_epochs=100, learning_rate=0.01)"
   ]
  },
  {
   "cell_type": "code",
   "execution_count": 59,
   "metadata": {},
   "outputs": [
    {
     "name": "stdout",
     "output_type": "stream",
     "text": [
      "6716.46\n"
     ]
    }
   ],
   "source": [
    "print(round(sum(losses), 2))"
   ]
  },
  {
   "cell_type": "markdown",
   "metadata": {},
   "source": [
    "Q3: c) 6716.46"
   ]
  }
 ],
 "metadata": {
  "kernelspec": {
   "display_name": "base",
   "language": "python",
   "name": "python3"
  },
  "language_info": {
   "codemirror_mode": {
    "name": "ipython",
    "version": 3
   },
   "file_extension": ".py",
   "mimetype": "text/x-python",
   "name": "python",
   "nbconvert_exporter": "python",
   "pygments_lexer": "ipython3",
   "version": "3.11.7"
  }
 },
 "nbformat": 4,
 "nbformat_minor": 2
}
