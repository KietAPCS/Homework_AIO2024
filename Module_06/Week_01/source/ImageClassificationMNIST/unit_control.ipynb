{
 "cells": [
  {
   "cell_type": "code",
   "execution_count": 1,
   "metadata": {},
   "outputs": [],
   "source": [
    "import torch\n",
    "from torchsummary import summary\n",
    "from PIL import Image\n",
    "\n",
    "import torch.nn as nn\n",
    "import torch.optim as optim\n",
    "import torch.nn.functional as F\n",
    "import torch.utils.data as data\n",
    "import numpy as np\n",
    "\n",
    "import torchvision.transforms as transforms\n",
    "import torchvision.datasets as datasets\n",
    "\n",
    "\n",
    "import matplotlib.pyplot as plt\n",
    "\n",
    "ROOT = './data'\n",
    "\n",
    "train_data = datasets.MNIST(\n",
    "    root = ROOT,\n",
    "    train = True,\n",
    "    download = True,\n",
    ")\n",
    "\n",
    "test_data = datasets.MNIST(\n",
    "    root = ROOT,\n",
    "    train = False,\n",
    "    download = True,\n",
    ")"
   ]
  },
  {
   "cell_type": "code",
   "execution_count": 6,
   "metadata": {},
   "outputs": [],
   "source": [
    "count = 0\n",
    "for index, (image, label) in enumerate(test_data):\n",
    "    image.save(f'./inference/images/{index}.png')\n",
    "    count += 1\n",
    "    if count == 10:\n",
    "        break"
   ]
  },
  {
   "cell_type": "code",
   "execution_count": 26,
   "metadata": {},
   "outputs": [],
   "source": [
    "class LeNetClassifier(nn.Module):\n",
    "    def __init__(self, num_classes):\n",
    "        super().__init__()\n",
    "        self.conv1 = nn.Conv2d(in_channels=1, out_channels=6, kernel_size=5, padding='same')\n",
    "        self.avgpool1 = nn.AvgPool2d(kernel_size=2)\n",
    "        self.conv2 = nn.Conv2d(in_channels=6, out_channels=16, kernel_size=5)\n",
    "        self.avgpool2 = nn.AvgPool2d(kernel_size=2)\n",
    "        self.flatten = nn.Flatten()\n",
    "        self.fc_1 = nn.Linear(16 * 5 * 5, 120)\n",
    "        self.fc_2 = nn.Linear(120, 84)\n",
    "        self.fc_3 = nn.Linear(84, num_classes)\n",
    "\n",
    "    def forward(self, inputs):\n",
    "        outputs = self.conv1(inputs)\n",
    "        outputs = self.avgpool1(outputs)\n",
    "        outputs = F.relu(outputs)\n",
    "        outputs = self.conv2(outputs)\n",
    "        outputs = self.avgpool2(outputs)\n",
    "        outputs = F.relu(outputs)\n",
    "        outputs = self.flatten(outputs)\n",
    "        outputs = self.fc_1(outputs)\n",
    "        outputs = self.fc_2(outputs)\n",
    "        outputs = self.fc_3(outputs)\n",
    "        return outputs"
   ]
  },
  {
   "cell_type": "code",
   "execution_count": 27,
   "metadata": {},
   "outputs": [],
   "source": [
    "def load_model(model_path, num_classes=10):\n",
    "    lenet_model = LeNetClassifier(num_classes)\n",
    "    lenet_model.load_state_dict(torch.load(model_path, weights_only=True, map_location=torch.device('cpu')))\n",
    "    lenet_model.eval()\n",
    "    return lenet_model\n",
    "model = load_model('./model/lenet_model.pt')"
   ]
  },
  {
   "cell_type": "code",
   "execution_count": 29,
   "metadata": {},
   "outputs": [],
   "source": [
    "model = load_model('./model/lenet_model.pt')"
   ]
  },
  {
   "cell_type": "code",
   "execution_count": 30,
   "metadata": {},
   "outputs": [],
   "source": [
    "def inference(image, model):\n",
    "    w, h = image.size\n",
    "    if w != h:\n",
    "        crop = transforms.CenterCrop(min(w, h))\n",
    "        image = crop(image)\n",
    "        wnew, hnew = image.size\n",
    "    img_transform = transforms.Compose([\n",
    "        transforms.Grayscale(),\n",
    "        transforms.Resize(28),\n",
    "        transforms.ToTensor(),\n",
    "        transforms.Normalize(mean=[0.1307], std=[0.3081])\n",
    "    ])\n",
    "    img_new = img_transform(image)\n",
    "    img_new = img_new.expand(1, 1, 28, 28)\n",
    "    with torch.no_grad():\n",
    "        predictions = model(img_new)\n",
    "    preds = nn.Softmax(dim=1)(predictions)\n",
    "    p_max, yhat = torch.max(preds.data, 1)\n",
    "    return p_max.item()*100, yhat.item()"
   ]
  },
  {
   "cell_type": "code",
   "execution_count": 34,
   "metadata": {},
   "outputs": [
    {
     "name": "stdout",
     "output_type": "stream",
     "text": [
      "Predicted: 7\n",
      "Predicted: 2\n",
      "Predicted: 1\n",
      "Predicted: 0\n",
      "Predicted: 4\n",
      "Predicted: 1\n",
      "Predicted: 4\n",
      "Predicted: 9\n",
      "Predicted: 5\n",
      "Predicted: 9\n"
     ]
    }
   ],
   "source": [
    "for index in range(10):\n",
    "    image = Image.open(f'./inference/images/{index}.png')\n",
    "    \n",
    "    confidence, predicted = inference(image, model)\n",
    "    \n",
    "    print(f'Predicted: {predicted}')\n"
   ]
  }
 ],
 "metadata": {
  "kernelspec": {
   "display_name": "visualize_env",
   "language": "python",
   "name": "python3"
  },
  "language_info": {
   "codemirror_mode": {
    "name": "ipython",
    "version": 3
   },
   "file_extension": ".py",
   "mimetype": "text/x-python",
   "name": "python",
   "nbconvert_exporter": "python",
   "pygments_lexer": "ipython3",
   "version": "3.10.15"
  }
 },
 "nbformat": 4,
 "nbformat_minor": 2
}
